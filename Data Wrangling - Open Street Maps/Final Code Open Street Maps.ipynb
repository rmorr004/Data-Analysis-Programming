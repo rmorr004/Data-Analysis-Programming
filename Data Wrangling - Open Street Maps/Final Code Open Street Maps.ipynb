{
 "cells": [
  {
   "cell_type": "code",
   "execution_count": 2,
   "metadata": {},
   "outputs": [],
   "source": [
    "import xml.etree.cElementTree as ET\n",
    "import pprint\n",
    "import re\n",
    "from collections import defaultdict"
   ]
  },
  {
   "cell_type": "code",
   "execution_count": 3,
   "metadata": {},
   "outputs": [],
   "source": [
    "tree=ET.parse('./sample.osm')\n",
    "root = tree.getroot()"
   ]
  },
  {
   "cell_type": "code",
   "execution_count": 4,
   "metadata": {},
   "outputs": [
    {
     "data": {
      "text/plain": [
       "'osm'"
      ]
     },
     "execution_count": 4,
     "metadata": {},
     "output_type": "execute_result"
    }
   ],
   "source": [
    "root.tag"
   ]
  },
  {
   "cell_type": "code",
   "execution_count": 5,
   "metadata": {},
   "outputs": [],
   "source": [
    "#function to count the # of unique tag types in the file\n",
    "\n",
    "tags={}\n",
    "\n",
    "def count_tags(file):\n",
    "    for child in root:\n",
    "        if child.tag in tags.keys():\n",
    "            tags[child.tag]+=1\n",
    "        else:\n",
    "            tags[child.tag]=1\n",
    "    return tags"
   ]
  },
  {
   "cell_type": "code",
   "execution_count": 6,
   "metadata": {},
   "outputs": [
    {
     "data": {
      "text/plain": [
       "{'node': 8440, 'way': 1001, 'relation': 10}"
      ]
     },
     "execution_count": 6,
     "metadata": {},
     "output_type": "execute_result"
    }
   ],
   "source": [
    "count_tags(tree)"
   ]
  },
  {
   "cell_type": "code",
   "execution_count": 7,
   "metadata": {},
   "outputs": [],
   "source": [
    "del(tree)"
   ]
  },
  {
   "cell_type": "code",
   "execution_count": 8,
   "metadata": {},
   "outputs": [],
   "source": [
    "#functions for Street Name Audits\n",
    "\n",
    "#set variables\n",
    "street_type_re = re.compile(r'\\b\\S+\\.?$', re.IGNORECASE)\n",
    "street_count = defaultdict(int)\n",
    "\n",
    "#Main Function - Counts # of instances of street types\n",
    "\n",
    "def streets_count(osmfile):\n",
    "    with open(osmfile, \"rb\") as osm_file:\n",
    "        for event, elem in ET.iterparse(osm_file):\n",
    "            if is_street(elem):\n",
    "                audit_street_count(street_count, elem.attrib['v'])    \n",
    "        osm_file.close()\n",
    "    print_sorted_dict(street_count)   \n",
    "\n",
    "#is street function -- returns true if passed a \"street name\" element\n",
    "\n",
    "def is_street(elem):\n",
    "    return (elem.tag == \"tag\") and (elem.attrib['k'] == \"addr:street\")\n",
    "\n",
    "# audit_street_count function -- looks for variable based on variable set and ups count in dictionary if present\n",
    "def audit_street_count(street_types, street_name):\n",
    "    m = street_type_re.search(street_name)\n",
    "    if m:\n",
    "        street_type = m.group()\n",
    "        street_count[street_type] += 1\n",
    "        \n",
    "# sets up dictionary to print dictionary created in a columnar view        \n",
    "def print_sorted_dict(d):\n",
    "    keys = d.keys()\n",
    "    keys = sorted(keys, key=lambda s: s.lower())\n",
    "    for k in keys:\n",
    "        v = d[k]\n",
    "        print (\"%s: %d\" % (k, v) )"
   ]
  },
  {
   "cell_type": "code",
   "execution_count": 10,
   "metadata": {},
   "outputs": [
    {
     "name": "stdout",
     "output_type": "stream",
     "text": [
      "A: 1\n",
      "Alley: 2\n",
      "Ave: 18\n",
      "ave: 1\n",
      "Avenue: 1648\n",
      "Boulevard: 3\n",
      "BowenStreet: 1\n",
      "Broadway: 11\n",
      "broadway: 1\n",
      "Circle: 54\n",
      "Court: 188\n",
      "Ct.: 1\n",
      "Drive: 884\n",
      "Hill: 2\n",
      "Lane: 251\n",
      "Parkway: 3\n",
      "Pike: 143\n",
      "PIKE: 1\n",
      "Pkwy: 2\n",
      "Place: 26\n",
      "Plaza: 5\n",
      "Rd: 4\n",
      "Road: 667\n",
      "Sq.: 1\n",
      "Square: 7\n",
      "St: 8\n",
      "st: 1\n",
      "St.: 1\n",
      "Street: 2263\n",
      "street: 1\n",
      "Terrace: 1\n",
      "Trail: 9\n",
      "Way: 118\n",
      "West: 2\n",
      "Wy: 2\n"
     ]
    }
   ],
   "source": [
    "streets_count('./sample.osm')"
   ]
  },
  {
   "cell_type": "code",
   "execution_count": 11,
   "metadata": {},
   "outputs": [],
   "source": [
    "#function to evaluate specific values from previous data pull\n",
    "def find_type(filename, search):\n",
    "    outp = set()\n",
    "    \n",
    "    with open(filename, \"rb\") as osm_file:\n",
    "        for event, element in ET.iterparse(osm_file):\n",
    "            for item in element.iter():\n",
    "                if 'tag' in item.tag:\n",
    "                    if item.attrib['k'] == \"addr:street\":\n",
    "                        match = re.search(r'\\b' + search + r'\\b',\n",
    "                                          item.attrib['v'], re.IGNORECASE)\n",
    "                        if match:\n",
    "                            outp.add(item.attrib['v'])\n",
    "    print (outp)"
   ]
  },
  {
   "cell_type": "code",
   "execution_count": 12,
   "metadata": {},
   "outputs": [
    {
     "name": "stdout",
     "output_type": "stream",
     "text": [
      "{'Putnam Pike'}\n"
     ]
    }
   ],
   "source": [
    "find_type('./sample.osm','pike')"
   ]
  },
  {
   "cell_type": "code",
   "execution_count": 13,
   "metadata": {},
   "outputs": [
    {
     "name": "stdout",
     "output_type": "stream",
     "text": [
      "{'Brook Hill Drive'}\n"
     ]
    }
   ],
   "source": [
    "find_type('./sample.osm', 'hill')"
   ]
  },
  {
   "cell_type": "code",
   "execution_count": 14,
   "metadata": {},
   "outputs": [
    {
     "name": "stdout",
     "output_type": "stream",
     "text": [
      "set()\n"
     ]
    }
   ],
   "source": [
    "find_type('./sample.osm','wy')"
   ]
  },
  {
   "cell_type": "code",
   "execution_count": 15,
   "metadata": {},
   "outputs": [],
   "source": [
    "#additional functions to further evaluate unexpected street types\n",
    "\n",
    "#set expected street types\n",
    "expected_street = ['Street', 'Avenue', 'Boulevard', 'Drive', 'Court', 'Place', 'Square', 'Lane', 'Road',\n",
    "            'Parkway', 'Commons', 'Highway', 'Loop', 'Terrace', 'Trail', 'Way', 'North', 'South',\n",
    "            'West', 'East', 'Circle', 'Broadway', 'Path', 'View', 'Plaza', 'Pike', 'Hill', 'Alley']\n",
    "\n",
    "#compare street type to expected types\n",
    "\n",
    "def audit_street_type(street_types, street_name, expected=expected_street):\n",
    "    m = street_type_re.search(street_name)\n",
    "    if m:\n",
    "        street_type = m.group()\n",
    "        if street_type not in expected:\n",
    "            street_types[street_type].add(street_name)\n",
    "            \n",
    "# main function - returns a dictionary of unexpected street types           \n",
    "def audit(osmfile):\n",
    "    with open(osmfile, \"rb\") as osm_file:\n",
    "        street_types = defaultdict(set)\n",
    "        for event, elem in ET.iterparse(osm_file, events=(\"start\",)):\n",
    "\n",
    "            if elem.tag == \"node\" or elem.tag == \"way\":\n",
    "                for tag in elem.iter(\"tag\"):\n",
    "                    if is_street(tag):\n",
    "                        audit_street_type(street_types, tag.attrib['v'])\n",
    "\n",
    "    return street_types"
   ]
  },
  {
   "cell_type": "code",
   "execution_count": 16,
   "metadata": {},
   "outputs": [
    {
     "data": {
      "text/plain": [
       "defaultdict(set, {'Ave': {'Atwood Ave'}})"
      ]
     },
     "execution_count": 16,
     "metadata": {},
     "output_type": "execute_result"
    }
   ],
   "source": [
    "audit('./sample.osm')"
   ]
  },
  {
   "cell_type": "code",
   "execution_count": 17,
   "metadata": {},
   "outputs": [
    {
     "name": "stdout",
     "output_type": "stream",
     "text": [
      "{'Johnston', 'Rumford', 'Seekonk'}\n"
     ]
    }
   ],
   "source": [
    "#identify if cities other than providence are included in file\n",
    "bad_city = set()\n",
    "osm_file = open('./sample.osm', \"rb\")\n",
    "for event, element in ET.iterparse(osm_file):\n",
    "    for item in element.iter():\n",
    "        if 'tag' in item.tag:\n",
    "            if item.attrib['k'] == \"addr:city\":\n",
    "                match = re.search(r'\\bProvidence\\b',item.attrib['v'])\n",
    "                if not match:\n",
    "                    bad_city.add(item.attrib['v'])\n",
    "                    #print(item.attrib['k'], item.attrib['v'])\n",
    "               \n",
    "osm_file.close()\n",
    "print (bad_city)"
   ]
  },
  {
   "cell_type": "code",
   "execution_count": 18,
   "metadata": {},
   "outputs": [],
   "source": [
    "#check zip codes to make sure that Providence ones are within expected range\n",
    "\n",
    "#expected zip codes\n",
    "expected_zip = ('02901', '02901', '02902', '02903','02904', '02905', '02906', '02907', '02908', '02909','02910',\n",
    "               '02911', '02912','02918', '02919', '02940')\n",
    "\n",
    "#takes tags and puts in a dictionary for easier iteration\n",
    "def tags2dict(el):\n",
    "    if el.tag not in ('node', 'way'): return {}\n",
    "    return {e.attrib['k']: e.attrib['v'] for e in el.findall('tag')}\n",
    "\n",
    "#main function -- looks at zip codes associated with providence and returns bad zip codes\n",
    "def audit_zip(file, zip = expected_zip):\n",
    "    with open(file, \"rb\") as osm_file:\n",
    "        bad_zip = set()\n",
    "        for event, element in ET.iterparse(osm_file):\n",
    "            if element.tag in ('node', 'way'):\n",
    "                #Convert the key/value pairs in the `tag`s under this element to a dictionary.\n",
    "                details = tags2dict(element)\n",
    "                if 'addr:postcode' in details and 'addr:city' in details:\n",
    "                    if details['addr:postcode'] not in zip and 'providence' == details['addr:city'].lower():\n",
    "                        bad_zip.add(details['addr:postcode'])\n",
    "    print(bad_zip)"
   ]
  },
  {
   "cell_type": "code",
   "execution_count": 30,
   "metadata": {},
   "outputs": [
    {
     "name": "stdout",
     "output_type": "stream",
     "text": [
      "{'4369', '02906-4800', '02903-2996', '02906-1189', '02860', '02093', '02903-4016'}\n"
     ]
    }
   ],
   "source": [
    "audit_zip('./map.osm')"
   ]
  },
  {
   "cell_type": "code",
   "execution_count": 20,
   "metadata": {},
   "outputs": [],
   "source": [
    "#set mapping for codification\n",
    "street_mapping = {\"Ave\": \"Avenue\",\n",
    "           \"St\" : \"Street\",\n",
    "           \"St.\" : \"Street\",\n",
    "           \"Ct.\" : \"Court\",\n",
    "           \"Rd\" : \"Road\",\n",
    "           \"ave\" : \"Avenue\",\n",
    "           \"Ave.\" : \"Avenue\",\n",
    "           \"st\" : \"Street\",\n",
    "           \"Pkwy\" : \"Parkway\",\n",
    "           \"Sq\" :  \"Square\",\n",
    "           \"Wy\" : \"Way\",\n",
    "           \"BowenStreet\" : \"Street\",\n",
    "           \"PIKE\" : \"Pike\",\n",
    "           \"street\" : \"Street\",\n",
    "           \"broadway\" : 'Broadway'\n",
    "          }\n",
    "\n",
    "zip_mapping = {\n",
    "    '02906-1189' : '02906',\n",
    "    '02093' : '02903',\n",
    "    '4369' : '02909',\n",
    "    '02906-4800' : '02906',\n",
    "    '02903-4016': '02903'\n",
    "}"
   ]
  },
  {
   "cell_type": "code",
   "execution_count": 21,
   "metadata": {},
   "outputs": [],
   "source": [
    "import csv\n",
    "import codecs\n",
    "import cerberus\n",
    "import schema\n",
    "\n",
    "OSM_PATH = \"example.osm\"\n",
    "\n",
    "NODES_PATH = \"nodes.csv\"\n",
    "NODE_TAGS_PATH = \"nodes_tags.csv\"\n",
    "WAYS_PATH = \"ways.csv\"\n",
    "WAY_NODES_PATH = \"ways_nodes.csv\"\n",
    "WAY_TAGS_PATH = \"ways_tags.csv\"\n",
    "\n",
    "LOWER_COLON = re.compile(r'^([a-z]|_)+:([a-z]|_)+')\n",
    "                       # r'^([a-z]|_)*:([a-z]|_)*$'\n",
    "PROBLEMCHARS = re.compile(r'[=\\+/&<>;\\'\"\\?%#$@\\,\\. \\t\\r\\n]')\n",
    "\n",
    "\n",
    "\n",
    "# Make sure the fields order in the csvs matches the column order in the sql table schema\n",
    "NODE_FIELDS = ['id', 'lat', 'lon', 'user', 'uid', 'version', 'changeset', 'timestamp']\n",
    "NODE_TAGS_FIELDS = ['id', 'key', 'value', 'type']\n",
    "WAY_FIELDS = ['id', 'user', 'uid', 'version', 'changeset', 'timestamp']\n",
    "WAY_TAGS_FIELDS = ['id', 'key', 'value', 'type']\n",
    "WAY_NODES_FIELDS = ['id', 'node_id', 'position']"
   ]
  },
  {
   "cell_type": "code",
   "execution_count": 22,
   "metadata": {},
   "outputs": [],
   "source": [
    "schema = {\n",
    "    'node': {\n",
    "        'type': 'dict',\n",
    "        'schema': {\n",
    "            'id': {'required': True, 'type': 'integer', 'coerce': int},\n",
    "            'lat': {'required': True, 'type': 'float', 'coerce': float},\n",
    "            'lon': {'required': True, 'type': 'float', 'coerce': float},\n",
    "            'user': {'required': True, 'type': 'string'},\n",
    "            'uid': {'required': True, 'type': 'integer', 'coerce': int},\n",
    "            'version': {'required': True, 'type': 'string'},\n",
    "            'changeset': {'required': True, 'type': 'integer', 'coerce': int},\n",
    "            'timestamp': {'required': True, 'type': 'string'}\n",
    "        }\n",
    "    },\n",
    "    'node_tags': {\n",
    "        'type': 'list',\n",
    "        'schema': {\n",
    "            'type': 'dict',\n",
    "            'schema': {\n",
    "                'id': {'required': True, 'type': 'integer', 'coerce': int},\n",
    "                'key': {'required': True, 'type': 'string'},\n",
    "                'value': {'required': True, 'type': 'string'},\n",
    "                'type': {'required': True, 'type': 'string'}\n",
    "            }\n",
    "        }\n",
    "    },\n",
    "    'way': {\n",
    "        'type': 'dict',\n",
    "        'schema': {\n",
    "            'id': {'required': True, 'type': 'integer', 'coerce': int},\n",
    "            'user': {'required': True, 'type': 'string'},\n",
    "            'uid': {'required': True, 'type': 'integer', 'coerce': int},\n",
    "            'version': {'required': True, 'type': 'string'},\n",
    "            'changeset': {'required': True, 'type': 'integer', 'coerce': int},\n",
    "            'timestamp': {'required': True, 'type': 'string'}\n",
    "        }\n",
    "    },\n",
    "    'way_nodes': {\n",
    "        'type': 'list',\n",
    "        'schema': {\n",
    "            'type': 'dict',\n",
    "            'schema': {\n",
    "                'id': {'required': True, 'type': 'integer', 'coerce': int},\n",
    "                'node_id': {'required': True, 'type': 'integer', 'coerce': int},\n",
    "                'position': {'required': True, 'type': 'integer', 'coerce': int}\n",
    "            }\n",
    "        }\n",
    "    },\n",
    "    'way_tags': {\n",
    "        'type': 'list',\n",
    "        'schema': {\n",
    "            'type': 'dict',\n",
    "            'schema': {\n",
    "                'id': {'required': True, 'type': 'integer', 'coerce': int},\n",
    "                'key': {'required': True, 'type': 'string'},\n",
    "                'value': {'required': True, 'type': 'string'},\n",
    "                'type': {'required': True, 'type': 'string'}\n",
    "            }\n",
    "        }\n",
    "    }\n",
    "}\n",
    "\n",
    "\n",
    "SCHEMA = schema"
   ]
  },
  {
   "cell_type": "code",
   "execution_count": 23,
   "metadata": {},
   "outputs": [],
   "source": [
    "def load_new_tag(elid, tag, default_tag_type):\n",
    "    \"\"\"\n",
    "    Turn tag (a `tag` element) into a dictionary.\n",
    "    \"\"\"\n",
    "    new = {}\n",
    "    new['id'] = elid\n",
    "    value = tag.attrib['v']\n",
    "    \n",
    "    if \":\" in tag.attrib['k']:\n",
    "        typ, key = tag.attrib['k'].split(':', 1)\n",
    "    else:\n",
    "        key = tag.attrib['k']\n",
    "        typ = default_tag_type\n",
    "        \n",
    "    # Fix broken ZIP Code.\n",
    "    if key == 'postcode' and value in zip_mapping.keys():\n",
    "        value = f'=\"zip_mapping[value]\"'\n",
    "    if key == 'postcode':\n",
    "        value = format_numeric_for_workbook(value)\n",
    "    \n",
    "    # Fix broken street names.\n",
    "    elif is_street(tag): \n",
    "        st = get_street_type(value) \n",
    "        if st in street_mapping.keys():\n",
    "            newst = street_mapping['st']\n",
    "            value = re.sub(street_type_re, newst, value)\n",
    "        \n",
    "    new['key'] = key\n",
    "    new['value'] = value\n",
    "    new['type'] = typ\n",
    "    return new"
   ]
  },
  {
   "cell_type": "code",
   "execution_count": 24,
   "metadata": {},
   "outputs": [],
   "source": [
    "def format_numeric_for_workbook(val):\n",
    "    \"\"\" Given a numeric value, return the special incantations needed to prevent Excel,\n",
    "    Numbers, or Google Sheets from dropping leading zeros.\n",
    "    \"\"\"\n",
    "    if not val:\n",
    "        return \"\"\n",
    "    return f'=\"{val}\"'"
   ]
  },
  {
   "cell_type": "code",
   "execution_count": 25,
   "metadata": {},
   "outputs": [],
   "source": [
    "def shape_element(element, node_attr_fields=NODE_FIELDS, way_attr_fields=WAY_FIELDS,\n",
    "                  problem_chars=PROBLEMCHARS, default_tag_type='regular'):\n",
    "    \"\"\"Clean and shape node or way XML element to Python dict\"\"\"\n",
    "\n",
    "    node_attribs = {}\n",
    "    way_attribs = {}\n",
    "    way_nodes = []\n",
    "    tagels = []  # Handle secondary tags the same way for both node and way elements\n",
    "\n",
    "    if element.tag == 'node':\n",
    "        for attrib, value in element.attrib.items():\n",
    "            if attrib in node_attr_fields:\n",
    "                node_attribs[attrib] = value\n",
    "        \n",
    "        # for elements within the top element\n",
    "        for tag in element.iter('tag'):\n",
    "            if problem_chars.match(tag.attrib['k']) is not None:\n",
    "                continue\n",
    "            else:\n",
    "                new = load_new_tag(node_attribs['id'], tag, default_tag_type)\n",
    "                if new['key'] == 'city' and new['value'].lower() != 'providence':\n",
    "                    return None\n",
    "                tagels.append(new)\n",
    "        outp = {'node': node_attribs, 'node_tags': tagels}\n",
    "        #print(outp)\n",
    "        return outp\n",
    "    elif element.tag == 'way':\n",
    "        #TODO\n",
    "        #return False\n",
    "        for attrib, value in element.attrib.items():\n",
    "            if attrib in way_attr_fields:\n",
    "                way_attribs[attrib] = value \n",
    "        counter = 0\n",
    "        for secondary in element.iter():\n",
    "            if secondary.tag == 'tag':\n",
    "                if problem_chars.match(secondary.attrib['k']) is not None:\n",
    "                    continue\n",
    "                else:\n",
    "                    new = load_new_tag(element.attrib['id'], secondary, default_tag_type)\n",
    "                    tagels.append(new)\n",
    "            if secondary.tag == 'nd':\n",
    "                newnd = {}\n",
    "                newnd['id'] = element.attrib['id']\n",
    "                newnd['node_id'] = secondary.attrib['ref']\n",
    "                newnd['position'] = counter\n",
    "                counter += 1\n",
    "                way_nodes.append(newnd)\n",
    "        output = {'way': way_attribs, 'way_nodes': way_nodes, 'way_tags':tagels}\n",
    "        return output"
   ]
  },
  {
   "cell_type": "code",
   "execution_count": 26,
   "metadata": {},
   "outputs": [],
   "source": [
    "# ================================================== #\n",
    "#               Helper Functions                     #\n",
    "# ================================================== #\n",
    "def get_street_type(street_name):\n",
    "    m = street_type_re.search(street_name)\n",
    "    if m:\n",
    "        return m.group()\n",
    "    else:\n",
    "        return None\n",
    "    \n",
    "def get_element(osm_file, tags=('node', 'way', 'relation')):\n",
    "    \"\"\"Yield element if it is the right type of tag\"\"\"\n",
    "\n",
    "    context = ET.iterparse(osm_file, events=('start', 'end'))\n",
    "    _, root = next(context)\n",
    "    for event, elem in context:\n",
    "        if event == 'end' and elem.tag in tags:\n",
    "            yield elem\n",
    "            root.clear()\n",
    "            \n",
    "def validate_element(element, validator, schema=SCHEMA):\n",
    "    \"\"\"Raise ValidationError if element does not match schema\"\"\"\n",
    "    if validator.validate(element, schema) is not True:\n",
    "        field, errors = next(iter(validator.errors.items()))\n",
    "        #Iterator objects: d.iteritems() -> iter(d.items())\n",
    "        message_string = \"\\nElement of type '{0}' has the following errors:\\n{1}\"\n",
    "        error_string = pprint.pformat(errors)\n",
    "        print(element)\n",
    "        raise Exception(message_string.format(field, error_string))\n",
    "\n",
    "\n",
    "\n",
    "class UnicodeDictWriter(csv.DictWriter, object):\n",
    "    pass"
   ]
  },
  {
   "cell_type": "code",
   "execution_count": 27,
   "metadata": {},
   "outputs": [],
   "source": [
    "# ================================================== #\n",
    "#               Main Function                        #\n",
    "# ================================================== #\n",
    "def process_map(file_in, validate):\n",
    "    \"\"\"Iteratively process each XML element and write to csv(s)\"\"\"\n",
    "\n",
    "    with codecs.open(NODES_PATH, 'w', encoding='utf-8') as nodes_file, \\\n",
    "         codecs.open(NODE_TAGS_PATH, 'w', encoding='utf-8') as nodes_tags_file, \\\n",
    "         codecs.open(WAYS_PATH, 'w', encoding='utf-8') as ways_file, \\\n",
    "         codecs.open(WAY_NODES_PATH, 'w', encoding='utf-8') as way_nodes_file, \\\n",
    "         codecs.open(WAY_TAGS_PATH, 'w', encoding='utf-8') as way_tags_file:\n",
    "\n",
    "        nodes_writer = csv.DictWriter(nodes_file, NODE_FIELDS)\n",
    "        node_tags_writer = csv.DictWriter(nodes_tags_file, NODE_TAGS_FIELDS)\n",
    "        ways_writer = csv.DictWriter(ways_file, WAY_FIELDS)\n",
    "        way_nodes_writer = csv.DictWriter(way_nodes_file, WAY_NODES_FIELDS)\n",
    "        way_tags_writer = csv.DictWriter(way_tags_file, WAY_TAGS_FIELDS)\n",
    "\n",
    "        nodes_writer.writeheader()\n",
    "        node_tags_writer.writeheader()\n",
    "        ways_writer.writeheader()\n",
    "        way_nodes_writer.writeheader()\n",
    "        way_tags_writer.writeheader()\n",
    "\n",
    "        validator = cerberus.Validator(schema)\n",
    "\n",
    "        for element in get_element(file_in, tags=('node', 'way')):\n",
    "            el = shape_element(element)\n",
    "            if el:\n",
    "                if validate is True:\n",
    "                    validate_element(el, validator)\n",
    "\n",
    "                if element.tag == 'node':\n",
    "                    nodes_writer.writerow(el['node'])\n",
    "                    node_tags_writer.writerows(el['node_tags'])\n",
    "                elif element.tag == 'way':\n",
    "                    ways_writer.writerow(el['way'])\n",
    "                    way_nodes_writer.writerows(el['way_nodes'])\n",
    "                    way_tags_writer.writerows(el['way_tags'])"
   ]
  },
  {
   "cell_type": "code",
   "execution_count": 28,
   "metadata": {},
   "outputs": [],
   "source": [
    "process_map('.\\sample.osm', validate=True)"
   ]
  },
  {
   "cell_type": "code",
   "execution_count": 1,
   "metadata": {},
   "outputs": [],
   "source": [
    "#!/usr/bin/env python\n",
    "# -*- coding: utf-8 -*-\n",
    "\n",
    "import xml.etree.ElementTree as ET  # Use cElementTree or lxml if too slow\n",
    "\n",
    "OSM_FILE = \".\\map.osm\"  # Replace this with your osm file\n",
    "SAMPLE_FILE = \"sample.osm\"\n",
    "\n",
    "k = 100 # Parameter: take every k-th top level element\n",
    "\n",
    "def get_element(osm_file, tags=('node', 'way', 'relation')):\n",
    "    \"\"\"Yield element if it is the right type of tag\n",
    "\n",
    "    Reference:\n",
    "    http://stackoverflow.com/questions/3095434/inserting-newlines-in-xml-file-generated-via-xml-etree-elementtree-in-python\n",
    "    \"\"\"\n",
    "    context = iter(ET.iterparse(osm_file, events=('start', 'end')))\n",
    "    _, root = next(context)\n",
    "    for event, elem in context:\n",
    "        if event == 'end' and elem.tag in tags:\n",
    "            yield elem\n",
    "            root.clear()\n",
    "\n",
    "\n",
    "with open(SAMPLE_FILE, 'w', encoding = 'utf-8') as output:\n",
    "    output.write('<?xml version=\"1.0\" encoding=\"UTF-8\"?>\\n')\n",
    "    output.write('<osm>\\n  ')\n",
    "\n",
    "    # Write every kth top level element\n",
    "    for i, element in enumerate(get_element(OSM_FILE)):\n",
    "        if i % k == 0:\n",
    "            output.write(ET.tostring(element, encoding='utf-8').decode('utf-8'))\n",
    "\n",
    "    output.write('</osm>')"
   ]
  },
  {
   "cell_type": "code",
   "execution_count": null,
   "metadata": {},
   "outputs": [],
   "source": []
  }
 ],
 "metadata": {
  "kernelspec": {
   "display_name": "Python 3",
   "language": "python",
   "name": "python3"
  },
  "language_info": {
   "codemirror_mode": {
    "name": "ipython",
    "version": 3
   },
   "file_extension": ".py",
   "mimetype": "text/x-python",
   "name": "python",
   "nbconvert_exporter": "python",
   "pygments_lexer": "ipython3",
   "version": "3.8.5"
  }
 },
 "nbformat": 4,
 "nbformat_minor": 5
}
